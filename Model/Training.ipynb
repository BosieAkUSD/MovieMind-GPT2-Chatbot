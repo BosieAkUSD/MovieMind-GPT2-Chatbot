{
  "cells": [
    {
      "cell_type": "markdown",
      "metadata": {},
      "source": [
        "# GPT-2 Movie Dialogue Fine-Tuning: Training Summary\n",
        "\n",
        "This notebook outlines the process of fine-tuning a GPT-2 model on a custom movie dialogue dataset for causal language modeling. The key steps involved are as follows:\n",
        "\n",
        "1. **Model and Tokenizer Setup**:\n",
        "   - Loaded the GPT-2 model (`gpt2-finetuned-movie-dialog`) and configured the tokenizer, using the `eos_token` as the padding token for input sequences.\n",
        "\n",
        "2. **Data Preparation**:\n",
        "   - The movie dialogue dataset was preprocessed to concatenate input and response sequences, creating a causal language modeling format where input and labels are identical.\n",
        "   - The dataset was split into training (95%) and validation (5%) sets using Hugging Face’s `Dataset` library.\n",
        "\n",
        "3. **Training Process**:\n",
        "   - The training was conducted for 10 epochs with a batch size of 64, using the Hugging Face `Trainer` class.\n",
        "   - Periodic evaluation (every 100 steps) and logging ensured that both training and validation losses were tracked.\n",
        "   - Weight decay was applied to prevent overfitting and ensure better generalization.\n",
        "\n",
        "4. **Model Saving and Testing**:\n",
        "   - After each epoch, the fine-tuned model and tokenizer were saved.\n",
        "   - The model was tested using a text generation pipeline to produce chatbot-like movie dialogues.\n",
        "\n",
        "5. **Exporting the Model**:\n",
        "   - Finally, the trained model was archived and saved to Google Drive for future use.\n",
        "\n",
        "This notebook demonstrates the full process of fine-tuning a GPT-2 model for generating conversational responses in the context of movie dialogues."
      ]
    },
    {
      "cell_type": "code",
      "execution_count": null,
      "metadata": {
        "colab": {
          "base_uri": "https://localhost:8080/"
        },
        "id": "H7jf-pBb9MCr",
        "outputId": "f7e7a826-dd98-4eaa-c1b2-f05ebd5603bc"
      },
      "outputs": [],
      "source": [
        "!pip install datasets"
      ]
    },
    {
      "cell_type": "code",
      "execution_count": 42,
      "metadata": {
        "colab": {
          "base_uri": "https://localhost:8080/"
        },
        "id": "a0Hy682NHP90",
        "outputId": "0fe06806-1d2b-4297-d63e-4e1875ad19de"
      },
      "outputs": [
        {
          "name": "stdout",
          "output_type": "stream",
          "text": [
            "{'input_ids': [39532, 1820, 256, 6475, 271, 25147, 25669, 1263, 640, 50256, 50256, 50256, 50256, 50256, 50256, 50256, 50256, 50256, 50256, 50256, 50256, 50256, 50256, 50256, 50256, 50256, 50256, 50256, 50256, 50256, 50256, 10919, 50256, 50256, 50256, 50256, 50256, 50256, 50256, 50256, 50256, 50256, 50256, 50256, 50256, 50256, 50256, 50256, 50256, 50256, 50256, 50256, 50256, 50256, 50256, 50256, 50256, 50256, 50256, 50256, 50256], 'labels': [39532, 1820, 256, 6475, 271, 25147, 25669, 1263, 640, 50256, 50256, 50256, 50256, 50256, 50256, 50256, 50256, 50256, 50256, 50256, 50256, 50256, 50256, 50256, 50256, 50256, 50256, 50256, 50256, 50256, 50256, 10919, 50256, 50256, 50256, 50256, 50256, 50256, 50256, 50256, 50256, 50256, 50256, 50256, 50256, 50256, 50256, 50256, 50256, 50256, 50256, 50256, 50256, 50256, 50256, 50256, 50256, 50256, 50256, 50256, 50256]}\n"
          ]
        }
      ],
      "source": [
        "import json\n",
        "from datasets import Dataset\n",
        "from transformers import Trainer, TrainingArguments, GPT2Tokenizer, AutoModelForCausalLM, AutoTokenizer, DataCollatorForLanguageModeling\n",
        "import random\n",
        "\n",
        "# Load dataset\n",
        "with open(\"preprocessed_data.json\", \"r\") as f:\n",
        "    data = json.load(f)\n",
        "\n",
        "# Load the \"gpt2-medium\" model\n",
        "tokenizer = AutoTokenizer.from_pretrained(\"./gpt2-finetuned-movie-dialog\")\n",
        "model = AutoModelForCausalLM.from_pretrained(\"./gpt2-finetuned-movie-dialog\")\n",
        "\n",
        "# Add a padding token to the tokenizer\n",
        "tokenizer.pad_token = tokenizer.eos_token  # Use eos_token as pad_token for GPT-2\n",
        "\n",
        "# Prepare the dataset in the correct format\n",
        "formatted_data = []\n",
        "for conversation in data:\n",
        "    input_ids = conversation[0]\n",
        "    response_ids = conversation[1]\n",
        "\n",
        "    # Concatenate input and response with a separator (if needed)\n",
        "    combined_ids = input_ids + [tokenizer.eos_token_id] + response_ids\n",
        "\n",
        "    formatted_data.append({\n",
        "        \"input_ids\": combined_ids,\n",
        "        \"labels\": combined_ids  # Labels are the same as input_ids (GPT-2 copies the input)\n",
        "    })\n",
        "formatted_data = random.sample(formatted_data, 20100)\n",
        "# Convert to a Huggingface Dataset\n",
        "dataset = Dataset.from_list(formatted_data)\n",
        "\n",
        "# Load your dataset and split it\n",
        "dataset_split = dataset.train_test_split(test_size=0.05)  # 95% train, 5% validation\n",
        "\n",
        "# Separate the train and validation datasets\n",
        "train_dataset = dataset_split[\"train\"]\n",
        "val_dataset = dataset_split[\"test\"]\n",
        "\n",
        "# Define the data collator with padding (automatically pads the sequences)\n",
        "data_collator = DataCollatorForLanguageModeling(\n",
        "    tokenizer=tokenizer,\n",
        "    mlm=False,  # Not using masked language modeling (MLM) since it's causal LM\n",
        ")\n",
        "\n",
        "# Verify the format of the dataset\n",
        "print(train_dataset[0])"
      ]
    },
    {
      "cell_type": "code",
      "execution_count": 43,
      "metadata": {
        "colab": {
          "base_uri": "https://localhost:8080/",
          "height": 1000
        },
        "id": "xvZT0QskJMVk",
        "outputId": "f531e406-5954-4d79-e17a-9621484d01f5"
      },
      "outputs": [
        {
          "name": "stdout",
          "output_type": "stream",
          "text": [
            "Drive already mounted at /content/drive; to attempt to forcibly remount, call drive.mount(\"/content/drive\", force_remount=True).\n"
          ]
        },
        {
          "data": {
            "text/html": [
              "\n",
              "    <div>\n",
              "      \n",
              "      <progress value='299' max='299' style='width:300px; height:20px; vertical-align: middle;'></progress>\n",
              "      [299/299 03:10, Epoch 1/1]\n",
              "    </div>\n",
              "    <table border=\"1\" class=\"dataframe\">\n",
              "  <thead>\n",
              " <tr style=\"text-align: left;\">\n",
              "      <th>Step</th>\n",
              "      <th>Training Loss</th>\n",
              "      <th>Validation Loss</th>\n",
              "    </tr>\n",
              "  </thead>\n",
              "  <tbody>\n",
              "    <tr>\n",
              "      <td>100</td>\n",
              "      <td>0.309700</td>\n",
              "      <td>7.611920</td>\n",
              "    </tr>\n",
              "    <tr>\n",
              "      <td>200</td>\n",
              "      <td>0.680000</td>\n",
              "      <td>7.284610</td>\n",
              "    </tr>\n",
              "  </tbody>\n",
              "</table><p>"
            ],
            "text/plain": [
              "<IPython.core.display.HTML object>"
            ]
          },
          "metadata": {},
          "output_type": "display_data"
        },
        {
          "name": "stderr",
          "output_type": "stream",
          "text": [
            "Hardware accelerator e.g. GPU is available in the environment, but no `device` argument is passed to the `Pipeline` object. Model will be on CPU.\n",
            "Truncation was not explicitly activated but `max_length` is provided a specific value, please use `truncation=True` to explicitly truncate examples to max length. Defaulting to 'longest_first' truncation strategy. If you encode pairs of sequences (GLUE-style) with the tokenizer you can select this strategy more precisely by providing a specific strategy to `truncation`.\n"
          ]
        },
        {
          "name": "stdout",
          "output_type": "stream",
          "text": [
            "Epoch: 0 completed\n",
            "You are a friendly chatbot specializing in movie dialog. \n",
            "User: What's your favorite movie? \n",
            "ChatBot:  Favorite movie Favorite bot favorite bot favorites Favorite movies with nick doofus favorite movies Favorite animal movies Favorites favorite sport moviesFavorite food moviesFavoritesfavorite book Favorite music Movies Favorite tv shows Favorite dance Rena favorite music Favorite painting fave song Favorite scene favorite scene with your best friend favorite food scene Favorite moment favorite idea favorite moment with kristin Favorite foodscene favorite\n"
          ]
        },
        {
          "data": {
            "text/html": [
              "\n",
              "    <div>\n",
              "      \n",
              "      <progress value='299' max='299' style='width:300px; height:20px; vertical-align: middle;'></progress>\n",
              "      [299/299 03:13, Epoch 1/1]\n",
              "    </div>\n",
              "    <table border=\"1\" class=\"dataframe\">\n",
              "  <thead>\n",
              " <tr style=\"text-align: left;\">\n",
              "      <th>Step</th>\n",
              "      <th>Training Loss</th>\n",
              "      <th>Validation Loss</th>\n",
              "    </tr>\n",
              "  </thead>\n",
              "  <tbody>\n",
              "    <tr>\n",
              "      <td>100</td>\n",
              "      <td>0.247400</td>\n",
              "      <td>7.685878</td>\n",
              "    </tr>\n",
              "    <tr>\n",
              "      <td>200</td>\n",
              "      <td>0.541000</td>\n",
              "      <td>7.529398</td>\n",
              "    </tr>\n",
              "  </tbody>\n",
              "</table><p>"
            ],
            "text/plain": [
              "<IPython.core.display.HTML object>"
            ]
          },
          "metadata": {},
          "output_type": "display_data"
        },
        {
          "name": "stderr",
          "output_type": "stream",
          "text": [
            "Hardware accelerator e.g. GPU is available in the environment, but no `device` argument is passed to the `Pipeline` object. Model will be on CPU.\n"
          ]
        },
        {
          "name": "stdout",
          "output_type": "stream",
          "text": [
            "Epoch: 1 completed\n",
            "You are a friendly chatbot specializing in movie dialog. \n",
            "User: What's your favorite movie? \n",
            "ChatBot:  Favorite movie Favorite bot favorite music Favorite food Favorite animal Favorite city Favorite actor Favorite actress Favorite musician Favorite bakery Favorite national geographic television station Favorite science fiction novel Favorite political cartoon Favorite spoken word Favorite joke Favorite playbook Favorite dreamy still painting Favorite quote favorite playbooks Favorite poetry Favorite narrative clip favorite idea of his favorite director Favorite song and the bot will answer with a movie from your\n"
          ]
        },
        {
          "data": {
            "text/html": [
              "\n",
              "    <div>\n",
              "      \n",
              "      <progress value='299' max='299' style='width:300px; height:20px; vertical-align: middle;'></progress>\n",
              "      [299/299 03:10, Epoch 1/1]\n",
              "    </div>\n",
              "    <table border=\"1\" class=\"dataframe\">\n",
              "  <thead>\n",
              " <tr style=\"text-align: left;\">\n",
              "      <th>Step</th>\n",
              "      <th>Training Loss</th>\n",
              "      <th>Validation Loss</th>\n",
              "    </tr>\n",
              "  </thead>\n",
              "  <tbody>\n",
              "    <tr>\n",
              "      <td>100</td>\n",
              "      <td>0.203400</td>\n",
              "      <td>7.760163</td>\n",
              "    </tr>\n",
              "    <tr>\n",
              "      <td>200</td>\n",
              "      <td>0.435300</td>\n",
              "      <td>7.728510</td>\n",
              "    </tr>\n",
              "  </tbody>\n",
              "</table><p>"
            ],
            "text/plain": [
              "<IPython.core.display.HTML object>"
            ]
          },
          "metadata": {},
          "output_type": "display_data"
        },
        {
          "name": "stderr",
          "output_type": "stream",
          "text": [
            "Hardware accelerator e.g. GPU is available in the environment, but no `device` argument is passed to the `Pipeline` object. Model will be on CPU.\n"
          ]
        },
        {
          "name": "stdout",
          "output_type": "stream",
          "text": [
            "Epoch: 2 completed\n",
            "You are a friendly chatbot specializing in movie dialog. \n",
            "User: What's your favorite movie? \n",
            "ChatBot:  Favorite movie Favorite food Favorite drink Favorite song Favorite artistii Favorite book i Favorite musici favorite travelbumperi favored favorite cookingi favorites hobbiesifavorite political statementi favor civil rightsand feminist theories over Nazarene sol why dont you answer my questionand vote for your least favorite film Favorite ice cream brand Favorite bakery what do you prefer your birthday gift Favorite political\n"
          ]
        },
        {
          "data": {
            "text/html": [
              "\n",
              "    <div>\n",
              "      \n",
              "      <progress value='299' max='299' style='width:300px; height:20px; vertical-align: middle;'></progress>\n",
              "      [299/299 03:15, Epoch 1/1]\n",
              "    </div>\n",
              "    <table border=\"1\" class=\"dataframe\">\n",
              "  <thead>\n",
              " <tr style=\"text-align: left;\">\n",
              "      <th>Step</th>\n",
              "      <th>Training Loss</th>\n",
              "      <th>Validation Loss</th>\n",
              "    </tr>\n",
              "  </thead>\n",
              "  <tbody>\n",
              "    <tr>\n",
              "      <td>100</td>\n",
              "      <td>0.177300</td>\n",
              "      <td>7.867425</td>\n",
              "    </tr>\n",
              "    <tr>\n",
              "      <td>200</td>\n",
              "      <td>0.364300</td>\n",
              "      <td>7.840002</td>\n",
              "    </tr>\n",
              "  </tbody>\n",
              "</table><p>"
            ],
            "text/plain": [
              "<IPython.core.display.HTML object>"
            ]
          },
          "metadata": {},
          "output_type": "display_data"
        },
        {
          "name": "stderr",
          "output_type": "stream",
          "text": [
            "Hardware accelerator e.g. GPU is available in the environment, but no `device` argument is passed to the `Pipeline` object. Model will be on CPU.\n"
          ]
        },
        {
          "name": "stdout",
          "output_type": "stream",
          "text": [
            "Epoch: 3 completed\n",
            "You are a friendly chatbot specializing in movie dialog. \n",
            "User: What's your favorite movie? \n",
            "ChatBot: ive seen information_technology angstrom million times with people of all ages and every age group can learn something from you just like your bot can just think out angstrofic from your answers when you type out movie information volition aid you to have a better time astatine the party and evening if you dont mind the inaccuracy iodine accept your request to continue\n"
          ]
        },
        {
          "data": {
            "text/html": [
              "\n",
              "    <div>\n",
              "      \n",
              "      <progress value='299' max='299' style='width:300px; height:20px; vertical-align: middle;'></progress>\n",
              "      [299/299 03:17, Epoch 1/1]\n",
              "    </div>\n",
              "    <table border=\"1\" class=\"dataframe\">\n",
              "  <thead>\n",
              " <tr style=\"text-align: left;\">\n",
              "      <th>Step</th>\n",
              "      <th>Training Loss</th>\n",
              "      <th>Validation Loss</th>\n",
              "    </tr>\n",
              "  </thead>\n",
              "  <tbody>\n",
              "    <tr>\n",
              "      <td>100</td>\n",
              "      <td>0.155400</td>\n",
              "      <td>7.930505</td>\n",
              "    </tr>\n",
              "    <tr>\n",
              "      <td>200</td>\n",
              "      <td>0.311200</td>\n",
              "      <td>7.905749</td>\n",
              "    </tr>\n",
              "  </tbody>\n",
              "</table><p>"
            ],
            "text/plain": [
              "<IPython.core.display.HTML object>"
            ]
          },
          "metadata": {},
          "output_type": "display_data"
        },
        {
          "name": "stderr",
          "output_type": "stream",
          "text": [
            "Hardware accelerator e.g. GPU is available in the environment, but no `device` argument is passed to the `Pipeline` object. Model will be on CPU.\n"
          ]
        },
        {
          "name": "stdout",
          "output_type": "stream",
          "text": [
            "Epoch: 4 completed\n",
            "You are a friendly chatbot specializing in movie dialog. \n",
            "User: What's your favorite movie? \n",
            "ChatBot: ive seen information_technology angstrom million times with people of all ages and every walks ang� Strait of Gibraltar manner past with cup holders in both hands and anglers with no hair on theirshins and cups of coffee all over the table youre just ang room right summoner and information isnt excessively loud youve get angroom by yourself iodine dont think thats\n"
          ]
        },
        {
          "data": {
            "text/html": [
              "\n",
              "    <div>\n",
              "      \n",
              "      <progress value='225' max='299' style='width:300px; height:20px; vertical-align: middle;'></progress>\n",
              "      [225/299 02:17 < 00:45, 1.62 it/s, Epoch 0.75/1]\n",
              "    </div>\n",
              "    <table border=\"1\" class=\"dataframe\">\n",
              "  <thead>\n",
              " <tr style=\"text-align: left;\">\n",
              "      <th>Step</th>\n",
              "      <th>Training Loss</th>\n",
              "      <th>Validation Loss</th>\n",
              "    </tr>\n",
              "  </thead>\n",
              "  <tbody>\n",
              "    <tr>\n",
              "      <td>100</td>\n",
              "      <td>0.137100</td>\n",
              "      <td>7.990967</td>\n",
              "    </tr>\n",
              "    <tr>\n",
              "      <td>200</td>\n",
              "      <td>0.270600</td>\n",
              "      <td>7.972692</td>\n",
              "    </tr>\n",
              "  </tbody>\n",
              "</table><p>"
            ],
            "text/plain": [
              "<IPython.core.display.HTML object>"
            ]
          },
          "metadata": {},
          "output_type": "display_data"
        },
        {
          "data": {
            "text/html": [
              "\n",
              "    <div>\n",
              "      \n",
              "      <progress value='299' max='299' style='width:300px; height:20px; vertical-align: middle;'></progress>\n",
              "      [299/299 03:14, Epoch 1/1]\n",
              "    </div>\n",
              "    <table border=\"1\" class=\"dataframe\">\n",
              "  <thead>\n",
              " <tr style=\"text-align: left;\">\n",
              "      <th>Step</th>\n",
              "      <th>Training Loss</th>\n",
              "      <th>Validation Loss</th>\n",
              "    </tr>\n",
              "  </thead>\n",
              "  <tbody>\n",
              "    <tr>\n",
              "      <td>100</td>\n",
              "      <td>0.137100</td>\n",
              "      <td>7.990967</td>\n",
              "    </tr>\n",
              "    <tr>\n",
              "      <td>200</td>\n",
              "      <td>0.270600</td>\n",
              "      <td>7.972692</td>\n",
              "    </tr>\n",
              "  </tbody>\n",
              "</table><p>"
            ],
            "text/plain": [
              "<IPython.core.display.HTML object>"
            ]
          },
          "metadata": {},
          "output_type": "display_data"
        },
        {
          "name": "stderr",
          "output_type": "stream",
          "text": [
            "Hardware accelerator e.g. GPU is available in the environment, but no `device` argument is passed to the `Pipeline` object. Model will be on CPU.\n"
          ]
        },
        {
          "name": "stdout",
          "output_type": "stream",
          "text": [
            "Epoch: 5 completed\n",
            "You are a friendly chatbot specializing in movie dialog. \n",
            "User: What's your favorite movie? \n",
            "ChatBot: ive get to change out of my raggedy old uni tshirt and get nikes for old_age im gonna need some style maam youre the guy for me im try to brand new hair looks good with these new details look at this look astatine this tux this isnt look dinky the kind of girl World_Health_Organ\n"
          ]
        },
        {
          "data": {
            "text/html": [
              "\n",
              "    <div>\n",
              "      \n",
              "      <progress value='299' max='299' style='width:300px; height:20px; vertical-align: middle;'></progress>\n",
              "      [299/299 03:14, Epoch 1/1]\n",
              "    </div>\n",
              "    <table border=\"1\" class=\"dataframe\">\n",
              "  <thead>\n",
              " <tr style=\"text-align: left;\">\n",
              "      <th>Step</th>\n",
              "      <th>Training Loss</th>\n",
              "      <th>Validation Loss</th>\n",
              "    </tr>\n",
              "  </thead>\n",
              "  <tbody>\n",
              "    <tr>\n",
              "      <td>100</td>\n",
              "      <td>0.118000</td>\n",
              "      <td>8.021007</td>\n",
              "    </tr>\n",
              "    <tr>\n",
              "      <td>200</td>\n",
              "      <td>0.241800</td>\n",
              "      <td>8.015536</td>\n",
              "    </tr>\n",
              "  </tbody>\n",
              "</table><p>"
            ],
            "text/plain": [
              "<IPython.core.display.HTML object>"
            ]
          },
          "metadata": {},
          "output_type": "display_data"
        },
        {
          "name": "stderr",
          "output_type": "stream",
          "text": [
            "Hardware accelerator e.g. GPU is available in the environment, but no `device` argument is passed to the `Pipeline` object. Model will be on CPU.\n"
          ]
        },
        {
          "name": "stdout",
          "output_type": "stream",
          "text": [
            "Epoch: 6 completed\n",
            "You are a friendly chatbot specializing in movie dialog. \n",
            "User: What's your favorite movie? \n",
            "ChatBot: ive get to change out of my raggedy old uni tshirt and get nikes for dear life so im gonna need a better image when im done um my lookso whatever it is youre angstrom chat bot youd do better on image no sooner make a movie than four old_age after that theres a conversation to carry out about the movie\n"
          ]
        },
        {
          "data": {
            "text/html": [
              "\n",
              "    <div>\n",
              "      \n",
              "      <progress value='299' max='299' style='width:300px; height:20px; vertical-align: middle;'></progress>\n",
              "      [299/299 03:14, Epoch 1/1]\n",
              "    </div>\n",
              "    <table border=\"1\" class=\"dataframe\">\n",
              "  <thead>\n",
              " <tr style=\"text-align: left;\">\n",
              "      <th>Step</th>\n",
              "      <th>Training Loss</th>\n",
              "      <th>Validation Loss</th>\n",
              "    </tr>\n",
              "  </thead>\n",
              "  <tbody>\n",
              "    <tr>\n",
              "      <td>100</td>\n",
              "      <td>0.101800</td>\n",
              "      <td>8.106676</td>\n",
              "    </tr>\n",
              "    <tr>\n",
              "      <td>200</td>\n",
              "      <td>0.218600</td>\n",
              "      <td>8.098091</td>\n",
              "    </tr>\n",
              "  </tbody>\n",
              "</table><p>"
            ],
            "text/plain": [
              "<IPython.core.display.HTML object>"
            ]
          },
          "metadata": {},
          "output_type": "display_data"
        },
        {
          "name": "stderr",
          "output_type": "stream",
          "text": [
            "Hardware accelerator e.g. GPU is available in the environment, but no `device` argument is passed to the `Pipeline` object. Model will be on CPU.\n"
          ]
        },
        {
          "name": "stdout",
          "output_type": "stream",
          "text": [
            "Epoch: 7 completed\n",
            "You are a friendly chatbot specializing in movie dialog. \n",
            "User: What's your favorite movie? \n",
            "ChatBot: ive get to change out of my uniform and im not into uniform for user reasons id rather not have to but i digress avant-garde jabba the idea of an intelligent life wholly governed by fear i love the fear of the dark in the movies the sense of community that comes with it the dread in general the light side of which i absolutely love a\n"
          ]
        },
        {
          "data": {
            "text/html": [
              "\n",
              "    <div>\n",
              "      \n",
              "      <progress value='299' max='299' style='width:300px; height:20px; vertical-align: middle;'></progress>\n",
              "      [299/299 03:16, Epoch 1/1]\n",
              "    </div>\n",
              "    <table border=\"1\" class=\"dataframe\">\n",
              "  <thead>\n",
              " <tr style=\"text-align: left;\">\n",
              "      <th>Step</th>\n",
              "      <th>Training Loss</th>\n",
              "      <th>Validation Loss</th>\n",
              "    </tr>\n",
              "  </thead>\n",
              "  <tbody>\n",
              "    <tr>\n",
              "      <td>100</td>\n",
              "      <td>0.088900</td>\n",
              "      <td>8.112890</td>\n",
              "    </tr>\n",
              "    <tr>\n",
              "      <td>200</td>\n",
              "      <td>0.201600</td>\n",
              "      <td>8.127602</td>\n",
              "    </tr>\n",
              "  </tbody>\n",
              "</table><p>"
            ],
            "text/plain": [
              "<IPython.core.display.HTML object>"
            ]
          },
          "metadata": {},
          "output_type": "display_data"
        },
        {
          "name": "stderr",
          "output_type": "stream",
          "text": [
            "Hardware accelerator e.g. GPU is available in the environment, but no `device` argument is passed to the `Pipeline` object. Model will be on CPU.\n"
          ]
        },
        {
          "name": "stdout",
          "output_type": "stream",
          "text": [
            "Epoch: 8 completed\n",
            "You are a friendly chatbot specializing in movie dialog. \n",
            "User: What's your favorite movie? \n",
            "ChatBot: ive get to change out of my uniform im sick of being lectured like im a dork for not knowing when to leave the room and im ready to kick your arse in the RookieGREETing from the comfort of your computer youd beryllium my best friend if you didnt have to sit through those plebian crap to get there and privation\n"
          ]
        },
        {
          "data": {
            "text/html": [
              "\n",
              "    <div>\n",
              "      \n",
              "      <progress value='299' max='299' style='width:300px; height:20px; vertical-align: middle;'></progress>\n",
              "      [299/299 03:19, Epoch 1/1]\n",
              "    </div>\n",
              "    <table border=\"1\" class=\"dataframe\">\n",
              "  <thead>\n",
              " <tr style=\"text-align: left;\">\n",
              "      <th>Step</th>\n",
              "      <th>Training Loss</th>\n",
              "      <th>Validation Loss</th>\n",
              "    </tr>\n",
              "  </thead>\n",
              "  <tbody>\n",
              "    <tr>\n",
              "      <td>100</td>\n",
              "      <td>0.077500</td>\n",
              "      <td>8.162188</td>\n",
              "    </tr>\n",
              "    <tr>\n",
              "      <td>200</td>\n",
              "      <td>0.186700</td>\n",
              "      <td>8.136312</td>\n",
              "    </tr>\n",
              "  </tbody>\n",
              "</table><p>"
            ],
            "text/plain": [
              "<IPython.core.display.HTML object>"
            ]
          },
          "metadata": {},
          "output_type": "display_data"
        },
        {
          "name": "stderr",
          "output_type": "stream",
          "text": [
            "Hardware accelerator e.g. GPU is available in the environment, but no `device` argument is passed to the `Pipeline` object. Model will be on CPU.\n"
          ]
        },
        {
          "name": "stdout",
          "output_type": "stream",
          "text": [
            "Epoch: 9 completed\n",
            "You are a friendly chatbot specializing in movie dialog. \n",
            "User: What's your favorite movie? \n",
            "ChatBot: ive get to change out of my r coat and uggottysu uoughayu for uhmmy favoriteu is indylfrightenenewhey ill watch it with you in a while i got a batch of movies to put on the docket you gotta show me something else once in awhile ill pay you off with a movie once a month\n"
          ]
        }
      ],
      "source": [
        "import shutil\n",
        "from google.colab import drive\n",
        "from transformers import pipeline\n",
        "\n",
        "drive.mount('/content/drive')\n",
        "\n",
        "for epoch in range(10):\n",
        "  # Now you can set up the Trainer using the data collator\n",
        "  training_args = TrainingArguments(\n",
        "    output_dir=\"./results\",\n",
        "    per_device_train_batch_size=64,\n",
        "    per_device_eval_batch_size=64,\n",
        "    num_train_epochs=1,\n",
        "    weight_decay=0.01,\n",
        "    eval_strategy=\"steps\",  # Evaluate every 'eval_steps'\n",
        "    eval_steps=100,  # Evaluate every __ steps\n",
        "    logging_steps=100,  # Log training and validation loss every __ steps\n",
        "    load_best_model_at_end=True,  # If you want to load the best model\n",
        "  )\n",
        "\n",
        "  trainer = Trainer(\n",
        "    model=model,\n",
        "    args=training_args,\n",
        "    train_dataset=train_dataset,\n",
        "    eval_dataset=val_dataset,\n",
        "    data_collator=data_collator,\n",
        "    tokenizer=tokenizer,\n",
        "  )\n",
        "\n",
        "  # Start training\n",
        "  trainer.train()\n",
        "\n",
        "  model.save_pretrained(\"./gpt2-finetuned-movie-dialog\")\n",
        "  tokenizer.save_pretrained(\"./gpt2-finetuned-movie-dialog\")\n",
        "\n",
        "  print(f\"Epoch: {epoch} completed\" )\n",
        "  epoch += 1\n",
        "\n",
        "  # Load fine-tuned model\n",
        "  generator = pipeline(\"text-generation\", model=\"./gpt2-finetuned-movie-dialog\", tokenizer=tokenizer)\n",
        "\n",
        "  # Test the model\n",
        "  response = generator(\n",
        "      \"You are a friendly chatbot specializing in movie dialog. \\nUser: What's your favorite movie? \\nChatBot: \",\n",
        "      max_length=100,\n",
        "      num_return_sequences=1,\n",
        "      min_new_tokens = 5,\n",
        "      no_repeat_ngram_size=2,  # Avoid repetition\n",
        "  )\n",
        "  print(response[0]['generated_text'])"
      ]
    },
    {
      "cell_type": "code",
      "execution_count": 44,
      "metadata": {
        "colab": {
          "base_uri": "https://localhost:8080/"
        },
        "id": "Xo80k3VCkAuc",
        "outputId": "68a4ee27-ddb7-4559-e8a5-9d3eb877374b"
      },
      "outputs": [
        {
          "name": "stdout",
          "output_type": "stream",
          "text": [
            "Drive already mounted at /content/drive; to attempt to forcibly remount, call drive.mount(\"/content/drive\", force_remount=True).\n"
          ]
        }
      ],
      "source": [
        "import shutil\n",
        "from google.colab import drive\n",
        "drive.mount('/content/drive')\n",
        "shutil.make_archive(f'gpt2-finetuned-movie-dialog', 'zip', './gpt2-finetuned-movie-dialog')\n",
        "!cp -r ./gpt2-finetuned-movie-dialog.zip /content/drive/MyDrive/"
      ]
    }
  ],
  "metadata": {
    "accelerator": "GPU",
    "colab": {
      "gpuType": "A100",
      "machine_shape": "hm",
      "provenance": []
    },
    "kernelspec": {
      "display_name": "Python 3",
      "name": "python3"
    },
    "language_info": {
      "name": "python"
    }
  },
  "nbformat": 4,
  "nbformat_minor": 0
}
